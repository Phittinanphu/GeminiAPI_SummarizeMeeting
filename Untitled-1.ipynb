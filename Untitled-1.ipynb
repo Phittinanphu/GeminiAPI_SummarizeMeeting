{
 "cells": [
  {
   "cell_type": "code",
   "execution_count": 12,
   "metadata": {},
   "outputs": [],
   "source": [
    "#!pip install -q -U google-generativeai"
   ]
  },
  {
   "cell_type": "code",
   "execution_count": 1,
   "metadata": {},
   "outputs": [
    {
     "name": "stderr",
     "output_type": "stream",
     "text": [
      "C:\\Users\\phitt\\AppData\\Local\\Packages\\PythonSoftwareFoundation.Python.3.11_qbz5n2kfra8p0\\LocalCache\\local-packages\\Python311\\site-packages\\tqdm\\auto.py:21: TqdmWarning: IProgress not found. Please update jupyter and ipywidgets. See https://ipywidgets.readthedocs.io/en/stable/user_install.html\n",
      "  from .autonotebook import tqdm as notebook_tqdm\n"
     ]
    }
   ],
   "source": [
    "import pathlib\n",
    "import textwrap\n",
    "import google.generativeai as genai\n",
    "\n",
    "from IPython.display import display\n",
    "from IPython.display import Markdown\n",
    "\n",
    "\n",
    "def to_markdown(text):\n",
    "  text = text.replace('•', '  *')\n",
    "  return Markdown(textwrap.indent(text, '> ', predicate=lambda _: True))"
   ]
  },
  {
   "cell_type": "code",
   "execution_count": 2,
   "metadata": {},
   "outputs": [],
   "source": [
    "import os\n",
    "from dotenv import load_dotenv\n",
    "\n",
    "load_dotenv()\n",
    "\n",
    "gemini_api_key = os.getenv(\"GEMINI_API_KEY\")\n",
    "os.environ[\"GOOGLE_APPLICATION_CREDENTIALS\"] = \"C:/Users/phitt/OneDrive/Documents/GitHub/GeminiAPI_SummarizeMeeting/gemini-api-424003-6ac26a951d8e.json\""
   ]
  },
  {
   "cell_type": "code",
   "execution_count": 3,
   "metadata": {},
   "outputs": [
    {
     "name": "stdout",
     "output_type": "stream",
     "text": [
      "models/gemini-1.0-pro\n",
      "models/gemini-1.0-pro-001\n",
      "models/gemini-1.0-pro-latest\n",
      "models/gemini-1.0-pro-vision-latest\n",
      "models/gemini-1.5-flash-latest\n",
      "models/gemini-1.5-pro-latest\n",
      "models/gemini-pro\n",
      "models/gemini-pro-vision\n"
     ]
    }
   ],
   "source": [
    "for m in genai.list_models():\n",
    "  if 'generateContent' in m.supported_generation_methods:\n",
    "    print(m.name)"
   ]
  },
  {
   "cell_type": "code",
   "execution_count": 4,
   "metadata": {},
   "outputs": [],
   "source": [
    "model = genai.GenerativeModel('gemini-pro')"
   ]
  },
  {
   "cell_type": "code",
   "execution_count": 5,
   "metadata": {},
   "outputs": [
    {
     "data": {
      "text/markdown": [
       "> The meaning of life is a profound and multifaceted question that has been contemplated by philosophers, religious leaders, and individuals throughout history. There is no single definitive answer that satisfies everyone, as the meaning of life can vary depending on one's personal beliefs, values, and experiences.\n",
       "> \n",
       "> Some common perspectives on the meaning of life include:\n",
       "> \n",
       "> * **Purpose-driven:** This view suggests that life has an inherent purpose or goal that individuals should strive towards. This purpose can be found through religious beliefs, personal aspirations, or societal contributions.\n",
       "> * **Experiential:** This perspective emphasizes the importance of living life to the fullest and enjoying each moment. It focuses on seeking pleasure, pursuing passions, and creating meaningful experiences.\n",
       "> * **Relational:** This view highlights the significance of relationships and connections with others. It suggests that life's meaning is found in forming bonds, nurturing relationships, and contributing to the well-being of loved ones and society.\n",
       "> * **Growth-oriented:** This perspective emphasizes the importance of personal growth and self-improvement. It suggests that life's meaning lies in the journey of learning, evolving, and becoming a better version of oneself.\n",
       "> * **Contribution-based:** This view suggests that life's meaning is found in making a positive impact on the world. It involves using one's talents, resources, and time to benefit others and society as a whole.\n",
       "> * **Existential:** This perspective acknowledges the inherent absurdity and meaninglessness of life. It suggests that individuals must create their own meaning and purpose by taking responsibility for their choices and actions.\n",
       "> \n",
       "> Ultimately, the meaning of life is subjective and varies widely. It is a personal journey that involves reflecting on one's values, beliefs, and experiences. There is no right or wrong answer, and the meaning of life may evolve and change over time as individuals grow and learn."
      ],
      "text/plain": [
       "<IPython.core.display.Markdown object>"
      ]
     },
     "execution_count": 5,
     "metadata": {},
     "output_type": "execute_result"
    }
   ],
   "source": [
    "response = model.generate_content(\"What is the meaning of life?\")\n",
    "to_markdown(response.text)"
   ]
  },
  {
   "cell_type": "code",
   "execution_count": 6,
   "metadata": {},
   "outputs": [
    {
     "name": "stdout",
     "output_type": "stream",
     "text": [
      "The meaning of life is a profound philosophical question that has been pondered by countless individuals\n",
      "________________________________________________________________________________\n",
      " throughout history. There exists a diverse range of perspectives on the matter, reflecting the unique values, beliefs, and experiences of humanity.\n",
      "\n",
      "**Personal Meaning:**\n",
      "\n",
      "\n",
      "________________________________________________________________________________\n",
      "* **Pursuing Happiness:** Many people derive meaning from seeking joy, fulfillment, and well-being in their lives. This may involve engaging in activities they enjoy, building relationships, and achieving personal goals.\n",
      "* **Purpose and Contribution:** Others find meaning in contributing to the world in a meaningful way. This can\n",
      "________________________________________________________________________________\n",
      " involve pursuing a career that aligns with their values, volunteering for causes they care about, or creating art or literature that inspires others.\n",
      "* **Growth and Self-Improvement:** Some individuals believe that the meaning of life lies in continuous personal development. This involves learning, growing, and striving to become the best version of themselves.\n",
      "\n",
      "**Religious and Spiritual Perspectives:**\n",
      "\n",
      "* **Service to God:** In many religions, the meaning of life is often seen as serving a divine being or power. This can involve following religious practices, adhering to moral principles, and striving for spiritual enlightenment.\n",
      "* **Connection to the Universe:** Some spiritual perspectives emphasize\n",
      "________________________________________________________________________________\n",
      " the interconnectedness of all things. They believe that the meaning of life lies in experiencing this unity and living in harmony with nature and the cosmos.\n",
      "\n",
      "**Philosophical Perspectives:**\n",
      "\n",
      "* **Existentialism:** This philosophical school emphasizes the absurdity of life and the need for individuals to create their own meaning. They believe that there is no inherent meaning assigned to life, and it is up to each person to determine their purpose.\n",
      "* **Humanism:** Humanists believe that the meaning of life is derived from human experiences, reason, and morality. They emphasize the importance of compassion, empathy, and working towards the betterment of society.\n",
      "* **Utilitarianism:** Utilitarians define the meaning of life as maximizing happiness and reducing suffering for the greatest number of people. They believe that actions should be judged based on their consequences and their ability to promote well-being.\n",
      "\n",
      "**Other Perspectives:**\n",
      "\n",
      "* **Epicureanism:** This philosophy emphasizes the pursuit of pleasure and the avoidance of pain as the key to a meaningful life.\n",
      "* **Stoicism:** Stoicism teaches individuals to accept the present moment and focus on what is within their control. They believe that the meaning of life lies in living virtuously and embracing adversity.\n",
      "* **Buddhism:** In Buddhist philosophy\n",
      "________________________________________________________________________________\n",
      ", the meaning of life is to end suffering and achieve enlightenment. This involves following the Eightfold Path, practicing mindfulness, and cultivating compassion.\n",
      "\n",
      "Ultimately, the meaning of life is a deeply personal and subjective question. There is no single answer that applies to everyone. However, by exploring different perspectives and reflecting on their own values and experiences, individuals can find purpose and meaning in their own lives.\n",
      "________________________________________________________________________________\n"
     ]
    },
    {
     "data": {
      "text/markdown": [
       "> The meaning of life is a profound philosophical question that has been pondered by countless individuals throughout history. There exists a diverse range of perspectives on the matter, reflecting the unique values, beliefs, and experiences of humanity.\n",
       "> \n",
       "> **Personal Meaning:**\n",
       "> \n",
       "> * **Pursuing Happiness:** Many people derive meaning from seeking joy, fulfillment, and well-being in their lives. This may involve engaging in activities they enjoy, building relationships, and achieving personal goals.\n",
       "> * **Purpose and Contribution:** Others find meaning in contributing to the world in a meaningful way. This can involve pursuing a career that aligns with their values, volunteering for causes they care about, or creating art or literature that inspires others.\n",
       "> * **Growth and Self-Improvement:** Some individuals believe that the meaning of life lies in continuous personal development. This involves learning, growing, and striving to become the best version of themselves.\n",
       "> \n",
       "> **Religious and Spiritual Perspectives:**\n",
       "> \n",
       "> * **Service to God:** In many religions, the meaning of life is often seen as serving a divine being or power. This can involve following religious practices, adhering to moral principles, and striving for spiritual enlightenment.\n",
       "> * **Connection to the Universe:** Some spiritual perspectives emphasize the interconnectedness of all things. They believe that the meaning of life lies in experiencing this unity and living in harmony with nature and the cosmos.\n",
       "> \n",
       "> **Philosophical Perspectives:**\n",
       "> \n",
       "> * **Existentialism:** This philosophical school emphasizes the absurdity of life and the need for individuals to create their own meaning. They believe that there is no inherent meaning assigned to life, and it is up to each person to determine their purpose.\n",
       "> * **Humanism:** Humanists believe that the meaning of life is derived from human experiences, reason, and morality. They emphasize the importance of compassion, empathy, and working towards the betterment of society.\n",
       "> * **Utilitarianism:** Utilitarians define the meaning of life as maximizing happiness and reducing suffering for the greatest number of people. They believe that actions should be judged based on their consequences and their ability to promote well-being.\n",
       "> \n",
       "> **Other Perspectives:**\n",
       "> \n",
       "> * **Epicureanism:** This philosophy emphasizes the pursuit of pleasure and the avoidance of pain as the key to a meaningful life.\n",
       "> * **Stoicism:** Stoicism teaches individuals to accept the present moment and focus on what is within their control. They believe that the meaning of life lies in living virtuously and embracing adversity.\n",
       "> * **Buddhism:** In Buddhist philosophy, the meaning of life is to end suffering and achieve enlightenment. This involves following the Eightfold Path, practicing mindfulness, and cultivating compassion.\n",
       "> \n",
       "> Ultimately, the meaning of life is a deeply personal and subjective question. There is no single answer that applies to everyone. However, by exploring different perspectives and reflecting on their own values and experiences, individuals can find purpose and meaning in their own lives."
      ],
      "text/plain": [
       "<IPython.core.display.Markdown object>"
      ]
     },
     "execution_count": 6,
     "metadata": {},
     "output_type": "execute_result"
    }
   ],
   "source": [
    "response1 = model.generate_content(\"What is the meaning of life?\", stream=True)\n",
    "\n",
    "for chunk in response1:\n",
    "  print(chunk.text)\n",
    "  print(\"_\"*80)\n",
    "\n",
    "#response.resolve()  # Wait for the response to complete\n",
    "\n",
    "to_markdown(response1.text)\n"
   ]
  },
  {
   "cell_type": "code",
   "execution_count": 20,
   "metadata": {},
   "outputs": [
    {
     "data": {
      "text/plain": [
       "total_tokens: 142"
      ]
     },
     "execution_count": 20,
     "metadata": {},
     "output_type": "execute_result"
    }
   ],
   "source": [
    "model.count_tokens(response.text)"
   ]
  },
  {
   "cell_type": "code",
   "execution_count": 21,
   "metadata": {},
   "outputs": [
    {
     "data": {
      "text/plain": [
       "[index: 0\n",
       "content {\n",
       "  parts {\n",
       "    text: \"A cat is a domestic species of small carnivorous mammal. It is a member of the family Felidae and is closely related to the tiger, leopard, cheetah, and lion. Cats are solitary animals and are found in a wide variety of habitats, including forests, grasslands, mountains, and deserts. They are opportunistic predators and feed on a variety of small animals, including rodents, birds, amphibians, reptiles, and fish. Cats are also known for their cleanliness and spend a significant amount of time grooming themselves. They are social animals and communicate through a variety of vocalizations, including meowing, purring, and hissing. Cats are popular pets and are estimated to be the most popular pet in the world.\"\n",
       "  }\n",
       "  role: \"model\"\n",
       "}\n",
       "finish_reason: STOP\n",
       "safety_ratings {\n",
       "  category: HARM_CATEGORY_SEXUALLY_EXPLICIT\n",
       "  probability: NEGLIGIBLE\n",
       "}\n",
       "safety_ratings {\n",
       "  category: HARM_CATEGORY_HATE_SPEECH\n",
       "  probability: NEGLIGIBLE\n",
       "}\n",
       "safety_ratings {\n",
       "  category: HARM_CATEGORY_HARASSMENT\n",
       "  probability: NEGLIGIBLE\n",
       "}\n",
       "safety_ratings {\n",
       "  category: HARM_CATEGORY_DANGEROUS_CONTENT\n",
       "  probability: NEGLIGIBLE\n",
       "}\n",
       "]"
      ]
     },
     "execution_count": 21,
     "metadata": {},
     "output_type": "execute_result"
    }
   ],
   "source": [
    "response.candidates"
   ]
  }
 ],
 "metadata": {
  "kernelspec": {
   "display_name": "Python 3",
   "language": "python",
   "name": "python3"
  },
  "language_info": {
   "codemirror_mode": {
    "name": "ipython",
    "version": 3
   },
   "file_extension": ".py",
   "mimetype": "text/x-python",
   "name": "python",
   "nbconvert_exporter": "python",
   "pygments_lexer": "ipython3",
   "version": "3.11.9"
  }
 },
 "nbformat": 4,
 "nbformat_minor": 2
}
