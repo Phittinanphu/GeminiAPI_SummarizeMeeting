{
 "cells": [
  {
   "cell_type": "code",
   "execution_count": 12,
   "metadata": {},
   "outputs": [],
   "source": [
    "#!pip install -q -U google-generativeai"
   ]
  },
  {
   "cell_type": "code",
   "execution_count": 13,
   "metadata": {},
   "outputs": [],
   "source": [
    "import pathlib\n",
    "import textwrap\n",
    "\n",
    "import google.generativeai as genai\n",
    "\n",
    "from IPython.display import display\n",
    "from IPython.display import Markdown\n",
    "\n",
    "\n",
    "def to_markdown(text):\n",
    "  text = text.replace('•', '  *')\n",
    "  return Markdown(textwrap.indent(text, '> ', predicate=lambda _: True))"
   ]
  },
  {
   "cell_type": "code",
   "execution_count": 14,
   "metadata": {},
   "outputs": [],
   "source": [
    "import os\n",
    "from dotenv import load_dotenv\n",
    "\n",
    "load_dotenv()\n",
    "\n",
    "gemini_api_key = os.getenv(\"GEMINI_API_KEY\")\n",
    "os.environ[\"GOOGLE_APPLICATION_CREDENTIALS\"] = \"C:/Users/phitt/OneDrive/Documents/GitHub/GeminiAPI_SummarizeMeeting/gemini-api-424003-6ac26a951d8e.json\""
   ]
  },
  {
   "cell_type": "code",
   "execution_count": 15,
   "metadata": {},
   "outputs": [
    {
     "name": "stdout",
     "output_type": "stream",
     "text": [
      "models/gemini-1.0-pro\n",
      "models/gemini-1.0-pro-001\n",
      "models/gemini-1.0-pro-latest\n",
      "models/gemini-1.0-pro-vision-latest\n",
      "models/gemini-1.5-flash-latest\n",
      "models/gemini-1.5-pro-latest\n",
      "models/gemini-pro\n",
      "models/gemini-pro-vision\n"
     ]
    }
   ],
   "source": [
    "for m in genai.list_models():\n",
    "  if 'generateContent' in m.supported_generation_methods:\n",
    "    print(m.name)"
   ]
  },
  {
   "cell_type": "code",
   "execution_count": 16,
   "metadata": {},
   "outputs": [],
   "source": [
    "model = genai.GenerativeModel('gemini-pro')"
   ]
  },
  {
   "cell_type": "code",
   "execution_count": 29,
   "metadata": {},
   "outputs": [
    {
     "data": {
      "text/markdown": [
       "> The meaning of life is a deeply personal and philosophical question that has been pondered by humans for centuries. There is no one definitive answer, as the meaning of life can vary greatly depending on individual beliefs, values, and experiences. Some common perspectives on the meaning of life include:\n",
       "> \n",
       "> * **Purpose-driven:** This view suggests that life has a specific purpose or goal, such as serving others, achieving personal growth, or making a meaningful contribution to the world.\n",
       "> * **Experience-based:** This perspective emphasizes the importance of living life to the fullest and experiencing all it has to offer. It suggests that the meaning of life lies in the moments, connections, and memories we create.\n",
       "> * **Relationship-oriented:** This view focuses on the significance of relationships and connections with others. It suggests that the meaning of life lies in the love, support, and shared experiences we have with the people we care about.\n",
       "> * **Values-based:** This perspective emphasizes the importance of living a life that aligns with our values. It suggests that the meaning of life lies in pursuing what we believe is right, ethical, and meaningful to us.\n",
       "> * **Self-discovery:** This view suggests that the meaning of life is a journey of self-discovery. It involves exploring our own thoughts, feelings, and experiences to gain a deeper understanding of who we are and what we truly want out of life.\n",
       "> \n",
       "> Ultimately, the meaning of life is highly subjective and personal. It is something that each individual must find for themselves through introspection, reflection, and a deep examination of their own values and experiences."
      ],
      "text/plain": [
       "<IPython.core.display.Markdown object>"
      ]
     },
     "execution_count": 29,
     "metadata": {},
     "output_type": "execute_result"
    }
   ],
   "source": [
    "response = model.generate_content(\"What is the meaning of life?\")\n",
    "to_markdown(response.text)"
   ]
  },
  {
   "cell_type": "code",
   "execution_count": 34,
   "metadata": {},
   "outputs": [
    {
     "name": "stdout",
     "output_type": "stream",
     "text": [
      "The meaning of life is a profound and subjective question that has been the subject of\n",
      "________________________________________________________________________________\n",
      " philosophical, religious, and scientific discourse for centuries. There is no universally accepted answer, as each individual's perspective and experiences shape their understanding of life's\n",
      "________________________________________________________________________________\n",
      " meaning.\n",
      "\n",
      "**Common Perspectives on the Meaning of Life:**\n",
      "\n",
      "* **Purpose-Driven:** Life has an inherent purpose, often attributed to a divine power, nature, or personal goals and aspirations.\n",
      "* **Experience-Based:** Life is about experiencing a wide range of emotions, events, and relationships. The focus\n",
      "________________________________________________________________________________\n",
      " is on the journey itself rather than a specific destination.\n",
      "* **Contribution-Oriented:** Life is about making a difference in the world, leaving a positive legacy, and contributing to the well-being of others.\n",
      "* **Self-Actualization:** Life is about realizing one's full potential, developing talents, pursuing personal growth, and living authentically.\n",
      "* **Meaning is Illusive:** Life has no predetermined meaning, and it is up to individuals to create their own.\n",
      "\n",
      "**Factors that Influence the Meaning of Life:**\n",
      "\n",
      "* Personal beliefs and values\n",
      "* Life experiences and challenges\n",
      "* Relationships with others\n",
      "* Cultural\n",
      "________________________________________________________________________________\n",
      " context\n",
      "* Existential and spiritual quests\n",
      "\n",
      "**Philosophical and Religious Views:**\n",
      "\n",
      "* Existentialism emphasizes the freedom and responsibility of individuals to create their own meaning.\n",
      "* Buddhism teaches that life is a cycle of suffering caused by attachment. The path to liberation is through detaching from desires and attaining enlightenment.\n",
      "* Christianity believes that the purpose of life is to glorify God and live according to his commandments.\n",
      "* Hinduism posits that the ultimate goal of life is to achieve moksha, liberation from the cycle of rebirth.\n",
      "\n",
      "**Scientific Perspectives:**\n",
      "\n",
      "* **Evolutionary Theory:** Life is driven by natural selection. The meaning of life could be seen as the preservation and propagation of one's genes.\n",
      "* **Cognitive Neuroscience:** The study of the brain has shown that our perceptions and experiences shape our sense of meaning.\n",
      "* **Positive Psychology:** Focuses on subjective well-being and strengths, suggesting that meaning can be found in relationships, accomplishments, and gratitude.\n",
      "\n",
      "**The Importance of Finding Meaning:**\n",
      "\n",
      "Finding meaning in life can provide purpose, direction, and fulfillment. It can motivate individuals to live their lives with intention and make choices that align with their values. A sense of meaning can also contribute to well-being and resilience in the face of\n",
      "________________________________________________________________________________\n",
      " adversity.\n",
      "\n",
      "Ultimately, the meaning of life is a deeply personal question that each individual must answer for themselves. By reflecting on their experiences, beliefs, and aspirations, they can navigate the complexities of life and find their own unique path to meaning and fulfillment.\n",
      "________________________________________________________________________________\n"
     ]
    },
    {
     "data": {
      "text/markdown": [
       "> The meaning of life is a profound and subjective question that has been the subject of philosophical, religious, and scientific discourse for centuries. There is no universally accepted answer, as each individual's perspective and experiences shape their understanding of life's meaning.\n",
       "> \n",
       "> **Common Perspectives on the Meaning of Life:**\n",
       "> \n",
       "> * **Purpose-Driven:** Life has an inherent purpose, often attributed to a divine power, nature, or personal goals and aspirations.\n",
       "> * **Experience-Based:** Life is about experiencing a wide range of emotions, events, and relationships. The focus is on the journey itself rather than a specific destination.\n",
       "> * **Contribution-Oriented:** Life is about making a difference in the world, leaving a positive legacy, and contributing to the well-being of others.\n",
       "> * **Self-Actualization:** Life is about realizing one's full potential, developing talents, pursuing personal growth, and living authentically.\n",
       "> * **Meaning is Illusive:** Life has no predetermined meaning, and it is up to individuals to create their own.\n",
       "> \n",
       "> **Factors that Influence the Meaning of Life:**\n",
       "> \n",
       "> * Personal beliefs and values\n",
       "> * Life experiences and challenges\n",
       "> * Relationships with others\n",
       "> * Cultural context\n",
       "> * Existential and spiritual quests\n",
       "> \n",
       "> **Philosophical and Religious Views:**\n",
       "> \n",
       "> * Existentialism emphasizes the freedom and responsibility of individuals to create their own meaning.\n",
       "> * Buddhism teaches that life is a cycle of suffering caused by attachment. The path to liberation is through detaching from desires and attaining enlightenment.\n",
       "> * Christianity believes that the purpose of life is to glorify God and live according to his commandments.\n",
       "> * Hinduism posits that the ultimate goal of life is to achieve moksha, liberation from the cycle of rebirth.\n",
       "> \n",
       "> **Scientific Perspectives:**\n",
       "> \n",
       "> * **Evolutionary Theory:** Life is driven by natural selection. The meaning of life could be seen as the preservation and propagation of one's genes.\n",
       "> * **Cognitive Neuroscience:** The study of the brain has shown that our perceptions and experiences shape our sense of meaning.\n",
       "> * **Positive Psychology:** Focuses on subjective well-being and strengths, suggesting that meaning can be found in relationships, accomplishments, and gratitude.\n",
       "> \n",
       "> **The Importance of Finding Meaning:**\n",
       "> \n",
       "> Finding meaning in life can provide purpose, direction, and fulfillment. It can motivate individuals to live their lives with intention and make choices that align with their values. A sense of meaning can also contribute to well-being and resilience in the face of adversity.\n",
       "> \n",
       "> Ultimately, the meaning of life is a deeply personal question that each individual must answer for themselves. By reflecting on their experiences, beliefs, and aspirations, they can navigate the complexities of life and find their own unique path to meaning and fulfillment."
      ],
      "text/plain": [
       "<IPython.core.display.Markdown object>"
      ]
     },
     "execution_count": 34,
     "metadata": {},
     "output_type": "execute_result"
    }
   ],
   "source": [
    "response1 = model.generate_content(\"What is the meaning of life?\", stream=True)\n",
    "\n",
    "for chunk in response1:\n",
    "  print(chunk.text)\n",
    "  print(\"_\"*80)\n",
    "\n",
    "#response.resolve()  # Wait for the response to complete\n",
    "\n",
    "to_markdown(response1.text)\n"
   ]
  },
  {
   "cell_type": "code",
   "execution_count": 20,
   "metadata": {},
   "outputs": [
    {
     "data": {
      "text/plain": [
       "total_tokens: 142"
      ]
     },
     "execution_count": 20,
     "metadata": {},
     "output_type": "execute_result"
    }
   ],
   "source": [
    "model.count_tokens(response.text)"
   ]
  },
  {
   "cell_type": "code",
   "execution_count": 21,
   "metadata": {},
   "outputs": [
    {
     "data": {
      "text/plain": [
       "[index: 0\n",
       "content {\n",
       "  parts {\n",
       "    text: \"A cat is a domestic species of small carnivorous mammal. It is a member of the family Felidae and is closely related to the tiger, leopard, cheetah, and lion. Cats are solitary animals and are found in a wide variety of habitats, including forests, grasslands, mountains, and deserts. They are opportunistic predators and feed on a variety of small animals, including rodents, birds, amphibians, reptiles, and fish. Cats are also known for their cleanliness and spend a significant amount of time grooming themselves. They are social animals and communicate through a variety of vocalizations, including meowing, purring, and hissing. Cats are popular pets and are estimated to be the most popular pet in the world.\"\n",
       "  }\n",
       "  role: \"model\"\n",
       "}\n",
       "finish_reason: STOP\n",
       "safety_ratings {\n",
       "  category: HARM_CATEGORY_SEXUALLY_EXPLICIT\n",
       "  probability: NEGLIGIBLE\n",
       "}\n",
       "safety_ratings {\n",
       "  category: HARM_CATEGORY_HATE_SPEECH\n",
       "  probability: NEGLIGIBLE\n",
       "}\n",
       "safety_ratings {\n",
       "  category: HARM_CATEGORY_HARASSMENT\n",
       "  probability: NEGLIGIBLE\n",
       "}\n",
       "safety_ratings {\n",
       "  category: HARM_CATEGORY_DANGEROUS_CONTENT\n",
       "  probability: NEGLIGIBLE\n",
       "}\n",
       "]"
      ]
     },
     "execution_count": 21,
     "metadata": {},
     "output_type": "execute_result"
    }
   ],
   "source": [
    "response.candidates"
   ]
  }
 ],
 "metadata": {
  "kernelspec": {
   "display_name": "Python 3",
   "language": "python",
   "name": "python3"
  },
  "language_info": {
   "codemirror_mode": {
    "name": "ipython",
    "version": 3
   },
   "file_extension": ".py",
   "mimetype": "text/x-python",
   "name": "python",
   "nbconvert_exporter": "python",
   "pygments_lexer": "ipython3",
   "version": "3.11.9"
  }
 },
 "nbformat": 4,
 "nbformat_minor": 2
}
